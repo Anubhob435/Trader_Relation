{
 "cells": [
  {
   "cell_type": "code",
   "execution_count": null,
   "id": "89b7ac46",
   "metadata": {
    "vscode": {
     "languageId": "plaintext"
    }
   },
   "outputs": [],
   "source": [
    "\n",
    "import pandas as pd\n",
    "import matplotlib.pyplot as plt\n",
    "import seaborn as sns\n",
    "\n",
    "# Load datasets\n",
    "sentiment_df = pd.read_csv(\"fear_greed_index.csv\")\n",
    "trades_df = pd.read_csv(\"Historical_Data.csv\")\n",
    "\n",
    "# Preview data\n",
    "print(sentiment_df.head())\n",
    "print(trades_df.head())\n"
   ]
  },
  {
   "cell_type": "code",
   "execution_count": null,
   "id": "df7c81f9",
   "metadata": {
    "vscode": {
     "languageId": "plaintext"
    }
   },
   "outputs": [],
   "source": [
    "# Convert date columns to datetime\n",
    "sentiment_df['date'] = pd.to_datetime(sentiment_df['date'])\n",
    "trades_df['Timestamp IST'] = pd.to_datetime(trades_df['Timestamp IST'])\n",
    "\n",
    "# Extract just the date for merging\n",
    "sentiment_df['merge_date'] = sentiment_df['date'].dt.date\n",
    "trades_df['merge_date'] = trades_df['Timestamp IST'].dt.date\n"
   ]
  },
  {
   "cell_type": "code",
   "execution_count": null,
   "id": "8998c8a2",
   "metadata": {
    "vscode": {
     "languageId": "plaintext"
    }
   },
   "outputs": [],
   "source": [
    "# Merge datasets on date\n",
    "merged_df = pd.merge(trades_df, sentiment_df, on='merge_date', how='left')\n",
    "\n",
    "# Check the result\n",
    "print(merged_df[['Account', 'Coin', 'Closed PnL', 'classification', 'value']].head())\n"
   ]
  },
  {
   "cell_type": "code",
   "execution_count": null,
   "id": "9a9c8a66",
   "metadata": {
    "vscode": {
     "languageId": "plaintext"
    }
   },
   "outputs": [],
   "source": [
    "# Average profit/loss on Fear vs Greed days\n",
    "pnl_by_sentiment = merged_df.groupby('classification')['Closed PnL'].mean()\n",
    "print(pnl_by_sentiment)\n",
    "\n",
    "# Visualize\n",
    "sns.boxplot(data=merged_df, x='classification', y='Closed PnL')\n",
    "plt.title('Profit/Loss Distribution by Market Sentiment')\n",
    "plt.ylabel('Closed PnL')\n",
    "plt.xlabel('Sentiment')\n",
    "plt.grid(True)\n",
    "plt.show()\n"
   ]
  },
  {
   "cell_type": "code",
   "execution_count": null,
   "id": "55afcde8",
   "metadata": {
    "vscode": {
     "languageId": "plaintext"
    }
   },
   "outputs": [],
   "source": [
    "# Average PnL by sentiment and trade direction\n",
    "pnl_by_dir = merged_df.groupby(['classification', 'Direction'])['Closed PnL'].mean().unstack()\n",
    "print(pnl_by_dir)\n",
    "\n",
    "# Visualize\n",
    "pnl_by_dir.plot(kind='bar')\n",
    "plt.title('Avg PnL by Sentiment and Direction')\n",
    "plt.ylabel('Average PnL')\n",
    "plt.grid(True)\n",
    "plt.show()\n"
   ]
  },
  {
   "cell_type": "code",
   "execution_count": null,
   "id": "f6518171",
   "metadata": {
    "vscode": {
     "languageId": "plaintext"
    }
   },
   "outputs": [],
   "source": [
    "# Scatter plot and correlation\n",
    "sns.scatterplot(data=merged_df, x='value', y='Closed PnL', hue='classification')\n",
    "plt.title(\"Sentiment Score vs PnL\")\n",
    "plt.grid(True)\n",
    "plt.show()\n",
    "\n",
    "# Correlation value\n",
    "correlation = merged_df['value'].corr(merged_df['Closed PnL'])\n",
    "print(f\"Correlation between sentiment value and PnL: {correlation:.2f}\")\n"
   ]
  },
  {
   "cell_type": "code",
   "execution_count": null,
   "id": "1fd06377",
   "metadata": {
    "vscode": {
     "languageId": "plaintext"
    }
   },
   "outputs": [],
   "source": [
    "if 'leverage' in merged_df.columns:\n",
    "    avg_leverage = merged_df.groupby('classification')['leverage'].mean()\n",
    "    print(avg_leverage)\n",
    "    avg_leverage.plot(kind='bar', title='Avg Leverage by Sentiment')\n",
    "    plt.ylabel('Leverage')\n",
    "    plt.grid(True)\n",
    "    plt.show()\n"
   ]
  },
  {
   "cell_type": "code",
   "execution_count": null,
   "id": "ae5fd667",
   "metadata": {
    "vscode": {
     "languageId": "plaintext"
    }
   },
   "outputs": [],
   "source": [
    "# Top performing accounts during Greed and Fear\n",
    "top_accounts = merged_df.groupby(['Account', 'classification'])['Closed PnL'].sum().unstack().fillna(0)\n",
    "print(top_accounts.sort_values('Greed', ascending=False).head())\n",
    "print(top_accounts.sort_values('Fear', ascending=False).head())\n"
   ]
  },
  {
   "cell_type": "code",
   "execution_count": null,
   "id": "b1612876",
   "metadata": {
    "vscode": {
     "languageId": "plaintext"
    }
   },
   "outputs": [],
   "source": [
    "# Save the merged dataset\n",
    "merged_df.to_csv(\"merged_trader_sentiment.csv\", index=False)\n"
   ]
  },
  {
   "cell_type": "code",
   "execution_count": null,
   "id": "c086866f",
   "metadata": {
    "vscode": {
     "languageId": "plaintext"
    }
   },
   "outputs": [],
   "source": []
  }
 ],
 "metadata": {
  "language_info": {
   "name": "python"
  }
 },
 "nbformat": 4,
 "nbformat_minor": 5
}
